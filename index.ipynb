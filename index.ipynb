{
 "cells": [
  {
   "cell_type": "markdown",
   "metadata": {},
   "source": [
    "<img style='float: left' align='left' src=\"http://lightning-viz.org/images/logo.png\">\n",
    "<br>\n",
    "<br>\n",
    "<h1 style=\"font-weight: 200; font-size:40px; margin-top:-10px\">&nbsp;&nbsp;&nbsp;&nbsp;&nbsp;<a href='http://lightning-viz.org/' style='text-decoration: none !important; color: #9175f0'>Lightning</a> + Jupyter</h1>"
   ]
  },
  {
   "cell_type": "markdown",
   "metadata": {},
   "source": [
    "<p style=\"margin-right:30%; margin-left:5%; font-size:18px; font-weight: 200; line-height: 1.2em\">Lightning is a framework for <b>data visualization</b> providing API-based access to reproducible, web-based, interactive visualizations. It includes a <b>core set</b> of visualization types, but is built for extendability and customization. Lightning supports modern web libraries like <b>d3.js</b> and <b>three.js</b> and the <b>npm</b> ecosystem, and is designed for interactivity and continuously updating data streams.</p>"
   ]
  },
  {
   "cell_type": "markdown",
   "metadata": {},
   "source": [
    "<br>\n",
    "<br>\n",
    "<a class='button' href='http://lightning-viz.org/lightning-python/' style='font-weight: 200; text-decoration: none !important; padding-left: 20px; padding-right: 20px; padding-top: 10px; padding-bottom: 10px; margin-right: 20px; border: 1px solid #9175f0; box-shadow: inset 0px 1px 0px 0px rgba(255,255,255,0.30); border-radius: 3px; font-size: 24px; color: #9175f0; line-height: 26px;'>Python docs</a>\n",
    "<a class='button' style='font-weight: 200; text-decoration: none !important; padding-left: 20px; padding-right: 20px; padding-top: 10px; padding-bottom: 10px; margin-right: 20px; border: 1px solid #9175f0; box-shadow: inset 0px 1px 0px 0px rgba(255,255,255,0.30); border-radius: 3px; font-size: 24px; color: #9175f0; line-height: 26px;' href='http://lightning-viz.org'>Project page</a>\n",
    "<a class='button' style='font-weight: 200; text-decoration: none !important; padding-left: 20px; padding-right: 20px; padding-top: 10px; padding-bottom: 10px; margin-right: 20px; border: 1px solid #9175f0; box-shadow: inset 0px 1px 0px 0px rgba(255,255,255,0.30); border-radius: 3px; font-size: 24px; color: #9175f0; line-height: 26px;' href='https://github.com/lightning-viz'>Github</a>\n",
    "<a class='button' style='font-weight: 200; text-decoration: none !important; padding-left: 20px; padding-right: 20px; padding-top: 10px; padding-bottom: 10px; margin-right: 20px; border: 1px solid #9175f0; box-shadow: inset 0px 1px 0px 0px rgba(255,255,255,0.30); border-radius: 3px; font-size: 24px; color: #9175f0; line-height: 26px;' href='https://gitter.im/lightning-viz/lightning?utm_source=badge&utm_medium=badge&utm_campaign=pr-badge&utm_content=badge'>Chatroom</a>\n",
    "<br>\n",
    "<br>"
   ]
  },
  {
   "cell_type": "markdown",
   "metadata": {},
   "source": [
    "<hr style=\"border-top-width: 4px; border-top-color: #8F7BD9;\">"
   ]
  },
  {
   "cell_type": "markdown",
   "metadata": {},
   "source": [
    "<h1 style='font-weight: 300'>Select a topic and click a thumbnail to see an example notebook</h1>\n",
    "<hr>"
   ]
  },
  {
   "cell_type": "markdown",
   "metadata": {},
   "source": [
    "<h2 style='font-weight: 200'>Plots</h2>\n",
    "\n",
    "<a data-content=\"Scatter\" href=\"plots/scatter.ipynb\" class=\"test\" style='padding-bottom: 5px'><img class='thumbnail' style='float: left; width: 21%; height: 21%; margin-right: 15px; margin-top: 15px; -web-kit-shadow: None !important; box-shadow: None !important; margin-bottom: 0px;' src=\"https://raw.githubusercontent.com/lightning-viz/lightning-default-index/master/thumbnails/scatter.png\"></a>\n",
    "\n",
    "<a data-content=\"Line\" href=\"plots/line.ipynb\" class=\"test\"><img class='thumbnail'style='float: left; width: 21%; height: 21%; margin-right: 15px; margin-top: 15px; -web-kit-shadow: None !important; box-shadow: None !important; margin-bottom: 0px;' src=\"https://raw.githubusercontent.com/lightning-viz/lightning-default-index/master/thumbnails/line.png\"></a>\n",
    "\n",
    "<a data-content=\"Force\" href=\"plots/force.ipynb\" class=\"test\"><img class='thumbnail' style='float: left; width: 21%; height: 21%; margin-right: 15px; margin-top: 15px; -web-kit-shadow: None !important; box-shadow: None !important; margin-bottom: 0px;' src=\"https://raw.githubusercontent.com/lightning-viz/lightning-default-index/master/thumbnails/force.png\"></a>\n",
    "\n",
    "<a data-content=\"Graph\" href=\"plots/graph.ipynb\" class=\"test\"><img class='thumbnail' style='float: left; width: 21%; height: 21%; margin-right: 15px; margin-top: 15px; -web-kit-shadow: None !important; box-shadow: None !important; margin-bottom: 0px;' src=\"https://raw.githubusercontent.com/lightning-viz/lightning-default-index/master/thumbnails/graph.png\"></a>\n",
    "\n",
    "<a data-content=\"Matrix\" href=\"plots/matrix.ipynb\" class=\"test\"><img class='thumbnail' style='float: left; width: 21%; height: 21%; margin-right: 15px; margin-top: 15px; -web-kit-shadow: None !important; box-shadow: None !important; margin-bottom: 0px;' src=\"https://raw.githubusercontent.com/lightning-viz/lightning-default-index/master/thumbnails/matrix.png\"></a>\n",
    "\n",
    "<a data-content=\"Map\" href=\"plots/map.ipynb\" class=\"test\"><img class='thumbnail' style='float: left; width: 21%; height: 21%; margin-right: 15px; margin-top: 15px; -web-kit-shadow: None !important; box-shadow: None !important; margin-bottom: 0px;' src=\"https://raw.githubusercontent.com/lightning-viz/lightning-default-index/master/thumbnails/map.png\"></a>\n",
    "\n",
    "<a data-content=\"Histogram\" href=\"plots/histogram.ipynb\" class=\"test\"><img class='thumbnail' style='float: left; width: 21%; height: 21%; margin-right: 15px; margin-top: 15px; -web-kit-shadow: None !important; box-shadow: None !important; margin-bottom: 0px;' src=\"https://raw.githubusercontent.com/lightning-viz/lightning-default-index/master/thumbnails/histogram.png\"></a>\n",
    "\n",
    "<a data-content=\"Circle\" href=\"plots/circle.ipynb\" class=\"test\"><img class='thumbnail' style='float: left; width: 21%; height: 21%; margin-right: 15px; margin-top: 15px; -web-kit-shadow: None !important; box-shadow: None !important; margin-bottom: 0px;' src=\"https://raw.githubusercontent.com/lightning-viz/lightning-default-index/master/thumbnails/circle.png\"></a>\n"
   ]
  },
  {
   "cell_type": "markdown",
   "metadata": {},
   "source": [
    "<h2 style='font-weight: 200'>Images</h2>\n",
    "\n",
    "<a data-content=\"Image\" href=\"images/image.ipynb\" class=\"test\"><img class='thumbnail' style='float: left; width: 21%; height: 21%; margin-right: 15px; margin-top: 15px; -web-kit-shadow: None !important; box-shadow: None !important; margin-bottom: 0px;' src=\"https://raw.githubusercontent.com/lightning-viz/lightning-default-index/master/thumbnails/image.png\"></a>\n",
    "\n",
    "<a data-content=\"Image poly\" href=\"images/image-poly.ipynb\" class=\"test\"><img class='thumbnail' style='float: left; width: 21%; height: 21%; margin-right: 15px; margin-top: 15px; -web-kit-shadow: None !important; box-shadow: None !important; margin-bottom: 0px;' src=\"https://raw.githubusercontent.com/lightning-viz/lightning-default-index/master/thumbnails/image-poly.png\"></a>\n",
    "\n",
    "<a data-content=\"Gallery\" href=\"images/gallery.ipynb\" class=\"test\"><img class='thumbnail' style='float: left; width: 21%; height: 21%; margin-right: 15px; margin-top: 15px; -web-kit-shadow: None !important; box-shadow: None !important; margin-bottom: 0px;' src=\"https://raw.githubusercontent.com/lightning-viz/lightning-default-index/master/thumbnails/gallery.png\"></a>\n"
   ]
  },
  {
   "cell_type": "markdown",
   "metadata": {},
   "source": [
    "<h2 style='font-weight: 200'>3D</h2>\n",
    "\n",
    "<a data-content=\"Scatter3\" href=\"3D/scatter3.ipynb\" class=\"test\"><img class='thumbnail' style='float: left; width: 21%; height: 21%; margin-right: 15px; margin-top: 15px; -web-kit-shadow: None !important; box-shadow: None !important; margin-bottom: 0px;' src=\"https://raw.githubusercontent.com/lightning-viz/lightning-default-index/master/thumbnails/scatter-3.png\"></a>\n",
    "\n",
    "<a data-content=\"Volume\" href=\"3D/volume.ipynb\" class=\"test\"><img class='thumbnail' style='float: left; width: 21%; height: 21%; margin-right: 15px; margin-top: 15px; -web-kit-shadow: None !important; box-shadow: None !important; margin-bottom: 0px;' src=\"https://raw.githubusercontent.com/lightning-viz/lightning-default-index/master/thumbnails/volume.png\"></a>"
   ]
  },
  {
   "cell_type": "markdown",
   "metadata": {},
   "source": [
    "<h2 style='font-weight: 200'>Options, modes, and interactivity</h2>\n",
    "\n",
    "<a data-content=\"Brushing\" href=\"misc/brushing.ipynb\" class=\"test\"><img class='thumbnail' style='float: left; width: 21%; height: 21%; margin-right: 15px; margin-top: 15px; -web-kit-shadow: None !important; box-shadow: None !important; margin-bottom: 0px;' src=\"https://raw.githubusercontent.com/lightning-viz/lightning-default-index/master/thumbnails/brushing.png\"></a>\n",
    "\n",
    "<a data-content=\"Tooltops\" href=\"misc/tooltips.ipynb\" class=\"test\"><img class='thumbnail' style='float: left; width: 21%; height: 21%; margin-right: 15px; margin-top: 15px; -web-kit-shadow: None !important; box-shadow: None !important; margin-bottom: 0px;' src=\"https://raw.githubusercontent.com/lightning-viz/lightning-default-index/master/thumbnails/tooltips.png\"></a>\n",
    "\n",
    "<a data-content=\"Sizing\" href=\"misc/sizing.ipynb\" class=\"test\"><img class='thumbnail' style='float: left; width: 21%; height: 21%; margin-right: 15px; margin-top: 15px; -web-kit-shadow: None !important; box-shadow: None !important; margin-bottom: 0px;' src=\"https://raw.githubusercontent.com/lightning-viz/lightning-default-index/master/thumbnails/sizing.png\"></a>\n",
    "\n",
    "<a data-content=\"Severless\" href=\"misc/severless.ipynb\" class=\"test\"><img class='thumbnail' style='float: left; width: 21%; height: 21%; margin-right: 15px; margin-top: 15px; -web-kit-shadow: None !important; box-shadow: None !important; margin-bottom: 0px;' src=\"https://raw.githubusercontent.com/lightning-viz/lightning-default-index/master/thumbnails/local.png\"></a>\n",
    "\n"
   ]
  },
  {
   "cell_type": "markdown",
   "metadata": {},
   "source": [
    "<hr style=\"border-top-width: 4px; border-top-color: #8F7BD9;\">"
   ]
  },
  {
   "cell_type": "markdown",
   "metadata": {},
   "source": [
    "<br>\n",
    "<h1 style='font-weight:200'>Questions? Contact us: <a href='http://twitter.com/mathisonian' style='color:#9175f0; text-decoration: none' >@mathisonian</a><a href='http://twitter.com/thefreemanlab' style='color:#9175f0; text-decoration: none' >@thefreemanlab</a></h1>\n",
    "\n",
    "<br>\n",
    "<a style='float:left' href='https://gitter.im/lightning-viz/lightning?utm_source=badge&utm_medium=badge&utm_campaign=pr-badge&utm_content=badge'><img src='https://badges.gitter.im/Join%20Chat.svg'></a>\n",
    "\n",
    "<br>\n",
    "<br>"
   ]
  }
 ],
 "metadata": {
  "kernelspec": {
   "display_name": "Python 2",
   "language": "python",
   "name": "python2"
  },
  "language_info": {
   "codemirror_mode": {
    "name": "ipython",
    "version": 2
   },
   "file_extension": ".py",
   "mimetype": "text/x-python",
   "name": "python",
   "nbconvert_exporter": "python",
   "pygments_lexer": "ipython2",
   "version": "2.7.9"
  }
 },
 "nbformat": 4,
 "nbformat_minor": 0
}
